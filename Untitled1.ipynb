{
 "cells": [
  {
   "cell_type": "code",
   "execution_count": 8,
   "id": "b4fc5380",
   "metadata": {},
   "outputs": [],
   "source": [
    "import tensorflow as tf\n",
    "from tensorflow import keras\n"
   ]
  },
  {
   "cell_type": "code",
   "execution_count": 16,
   "id": "e15a5c14",
   "metadata": {},
   "outputs": [
    {
     "data": {
      "text/html": [
       "<div>\n",
       "<style scoped>\n",
       "    .dataframe tbody tr th:only-of-type {\n",
       "        vertical-align: middle;\n",
       "    }\n",
       "\n",
       "    .dataframe tbody tr th {\n",
       "        vertical-align: top;\n",
       "    }\n",
       "\n",
       "    .dataframe thead th {\n",
       "        text-align: right;\n",
       "    }\n",
       "</style>\n",
       "<table border=\"1\" class=\"dataframe\">\n",
       "  <thead>\n",
       "    <tr style=\"text-align: right;\">\n",
       "      <th></th>\n",
       "      <th>X</th>\n",
       "      <th>Y</th>\n",
       "      <th>Z</th>\n",
       "      <th>Theta</th>\n",
       "      <th>D</th>\n",
       "    </tr>\n",
       "  </thead>\n",
       "  <tbody>\n",
       "    <tr>\n",
       "      <th>0</th>\n",
       "      <td>79739.620613</td>\n",
       "      <td>7878.459709</td>\n",
       "      <td>0</td>\n",
       "      <td>-20.003918</td>\n",
       "      <td>0.064571</td>\n",
       "    </tr>\n",
       "    <tr>\n",
       "      <th>1</th>\n",
       "      <td>79877.994046</td>\n",
       "      <td>7828.097490</td>\n",
       "      <td>0</td>\n",
       "      <td>-16.512926</td>\n",
       "      <td>0.065049</td>\n",
       "    </tr>\n",
       "    <tr>\n",
       "      <th>2</th>\n",
       "      <td>80016.893461</td>\n",
       "      <td>7777.618225</td>\n",
       "      <td>0</td>\n",
       "      <td>-11.721291</td>\n",
       "      <td>0.065530</td>\n",
       "    </tr>\n",
       "    <tr>\n",
       "      <th>3</th>\n",
       "      <td>80156.344207</td>\n",
       "      <td>7727.088636</td>\n",
       "      <td>0</td>\n",
       "      <td>-8.597062</td>\n",
       "      <td>0.066013</td>\n",
       "    </tr>\n",
       "    <tr>\n",
       "      <th>4</th>\n",
       "      <td>80296.371968</td>\n",
       "      <td>7676.576963</td>\n",
       "      <td>0</td>\n",
       "      <td>-6.640650</td>\n",
       "      <td>0.066499</td>\n",
       "    </tr>\n",
       "  </tbody>\n",
       "</table>\n",
       "</div>"
      ],
      "text/plain": [
       "              X            Y  Z      Theta         D\n",
       "0  79739.620613  7878.459709  0 -20.003918  0.064571\n",
       "1  79877.994046  7828.097490  0 -16.512926  0.065049\n",
       "2  80016.893461  7777.618225  0 -11.721291  0.065530\n",
       "3  80156.344207  7727.088636  0  -8.597062  0.066013\n",
       "4  80296.371968  7676.576963  0  -6.640650  0.066499"
      ]
     },
     "execution_count": 16,
     "metadata": {},
     "output_type": "execute_result"
    }
   ],
   "source": [
    "#loading data set from csv\n",
    "import numpy as np\n",
    "from numpy import random\n",
    "import pandas as pd\n",
    "import matplotlib.pyplot as plt\n",
    "import os\n",
    "\n",
    "\n",
    "\n",
    "DATADIR = \"../../mnt/c/Users/i_maa/Desktop/Thesis\"\n",
    "train_set = os.path.join(DATADIR,'positions_1.csv')\n",
    "test_set = os.path.join(DATADIR,'positions_2.csv')\n",
    "\n",
    "df_train = pd.read_csv(train_set, names=[\"X\",\"Y\",\"Z\",\"Theta\",\"D\"])\n",
    "df_test = pd.read_csv(test_set)\n",
    "#print(df_train) \n",
    "\n",
    "df_train.head()"
   ]
  },
  {
   "cell_type": "code",
   "execution_count": 22,
   "id": "6f6fcea5",
   "metadata": {},
   "outputs": [
    {
     "name": "stdout",
     "output_type": "stream",
     "text": [
      "(300, 6)\n"
     ]
    }
   ],
   "source": [
    "def get_features_labels(df):\n",
    "    features = df.values[:,:]\n",
    "    #labels = df['X'].values\n",
    "    return features\n",
    "\n",
    "\n",
    "train_features = get_features_labels(df_train)\n",
    "train_labels=random.randint(6, size=(300,1))\n",
    "train_labels = tf.keras.utils.to_categorical(train_labels)\n",
    "#train_labels = np.random.random((300, 1))\n",
    "#print(train_features)\n",
    "test_features = get_features_labels(df_test)\n",
    "test_labels=random.randint(6, size=(300,1))\n",
    "test_labels = tf.keras.utils.to_categorical(test_labels)\n",
    "#test_labels = np.random.random((300, 1))\n",
    "print(train_labels.shape)"
   ]
  },
  {
   "cell_type": "code",
   "execution_count": 27,
   "id": "e7f25f57",
   "metadata": {},
   "outputs": [
    {
     "name": "stdout",
     "output_type": "stream",
     "text": [
      "Model: \"sequential_2\"\n",
      "_________________________________________________________________\n",
      " Layer (type)                Output Shape              Param #   \n",
      "=================================================================\n",
      " dense_6 (Dense)             (None, 6)                 36        \n",
      "                                                                 \n",
      " dense_7 (Dense)             (None, 50)                350       \n",
      "                                                                 \n",
      " dense_8 (Dense)             (None, 6)                 306       \n",
      "                                                                 \n",
      "=================================================================\n",
      "Total params: 692\n",
      "Trainable params: 692\n",
      "Non-trainable params: 0\n",
      "_________________________________________________________________\n",
      "Epoch 1/2\n",
      "3/3 [==============================] - 0s 2ms/step - loss: 18860.4766 - accuracy: 0.1933\n",
      "Epoch 2/2\n",
      "3/3 [==============================] - 0s 2ms/step - loss: 12717.1670 - accuracy: 0.1933\n",
      "10/10 [==============================] - 0s 1ms/step - loss: 18402.6191 - accuracy: 0.1633\n",
      "test acc: 0.16333332657814026\n"
     ]
    }
   ],
   "source": [
    "model = tf.keras.Sequential()\n",
    "model.add(tf.keras.layers.Dense(6, activation=tf.nn.relu, input_shape=(5,)))\n",
    "model.add(tf.keras.layers.Dense(50, activation=tf.nn.relu))\n",
    "model.add(tf.keras.layers.Dense(6, activation=tf.nn.softmax))\n",
    "\n",
    "model.compile(loss = 'categorical_crossentropy',\n",
    "              optimizer = 'rmsprop',\n",
    "              metrics = ['accuracy'])\n",
    "model.summary()\n",
    "\n",
    "EPOCHS =2\n",
    "BATCH_SIZE=128\n",
    "\n",
    "model.fit(train_features,train_labels, epochs =EPOCHS, batch_size = BATCH_SIZE)\n",
    "\n",
    "test_loss, test_acc = model.evaluate(test_features,test_labels)\n",
    "\n",
    "print('test acc:',test_acc)"
   ]
  },
  {
   "cell_type": "code",
   "execution_count": null,
   "id": "ff26cfac",
   "metadata": {},
   "outputs": [],
   "source": []
  }
 ],
 "metadata": {
  "kernelspec": {
   "display_name": "Python 3 (ipykernel)",
   "language": "python",
   "name": "python3"
  },
  "language_info": {
   "codemirror_mode": {
    "name": "ipython",
    "version": 3
   },
   "file_extension": ".py",
   "mimetype": "text/x-python",
   "name": "python",
   "nbconvert_exporter": "python",
   "pygments_lexer": "ipython3",
   "version": "3.8.10"
  }
 },
 "nbformat": 4,
 "nbformat_minor": 5
}
